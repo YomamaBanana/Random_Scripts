{
 "cells": [
  {
   "cell_type": "code",
   "execution_count": 38,
   "metadata": {},
   "outputs": [],
   "source": [
    "# coding: utf-8\n",
    "import smtplib\n",
    "from email.mime.text import MIMEText\n",
    "from email.mime.base import MIMEBase\n",
    "from email.mime.image import MIMEImage\n",
    "from email.mime.multipart import MIMEMultipart\n",
    "from email import encoders\n",
    "from getpass import getpass"
   ]
  },
  {
   "cell_type": "code",
   "execution_count": 62,
   "metadata": {},
   "outputs": [],
   "source": [
    "class Mailer:\n",
    "    \"\"\" メールを送信するクラス \"\"\"\n",
    "\n",
    "    # 初期化\n",
    "    def __init__(self, addr_to, cc_to, subject, body):\n",
    "        self.password = getpass(\"Password: \")  # ← ここにGmailのログインパスワードを追加\n",
    "        self.addr_from = \"mine.mail.444@gmail.com\"  # ← ここにメールアドレスを追加\n",
    "        self.addr_to = addr_to\n",
    "        self.charset = \"ISO-2022-JP\"\n",
    "        self.subject = subject\n",
    "        self.body = body\n",
    "        self.CC = \", \".join(cc_to)\n",
    "        \n",
    "        # self.msg = MIMEText(self.body.encode(self.charset), 'plain', self.charset)\n",
    "        self.msg = MIMEMultipart()\n",
    "\n",
    "    def attach(self, file_path):\n",
    "        fname = open(file_path, \"rb\")\n",
    "        payload = MIMEBase(\"application\", \"octet-stream\")\n",
    "        payload.set_payload((fname).read())\n",
    "\n",
    "        encoders.encode_base64(payload) #encode the attachment\n",
    "        #add payload header with filename\n",
    "        payload.add_header('Content-Disposition', 'attachment; filename=  test.pdf')\n",
    "        self.msg.attach(payload)\n",
    "        \n",
    "        \n",
    "        embedImage = MIMEText('<img src=\"cid:image1\" width=\"160\" height=\"100\"><br>', 'html')\n",
    "        self.msg.attach(embedImage)\n",
    "        msgText = MIMEText(self.body)\n",
    "        self.msg.attach(msgText)\n",
    "        \n",
    "        #test images\n",
    "        fp = open('../data/sample.PNG', 'rb')\n",
    "        msgImage = MIMEImage(fp.read())\n",
    "        fp.close()\n",
    "        msgImage.add_header(\"Content-ID\", \"<image1>\")\n",
    "        self.msg.attach(msgImage)\n",
    "\n",
    "    def send(self):\n",
    "        # メールの設定\n",
    "        # msg = MIMEText(self.body.encode(self.charset), 'plain', self.charset)\n",
    "        self.msg['Subject'] = self.subject\n",
    "        self.msg['From'] = self.addr_from\n",
    "        self.msg['To'] = self.addr_to\n",
    "        self.msg['CC'] = self.CC\n",
    "\n",
    "        # gmailのsmtp経由で送信\n",
    "        smtp = smtplib.SMTP('smtp.gmail.com', 587)\n",
    "        smtp.ehlo()\n",
    "        smtp.starttls()\n",
    "        smtp.ehlo()\n",
    "        smtp.login(self.addr_from, self.password)\n",
    "        smtp.send_message(self.msg)\n",
    "        smtp.close()"
   ]
  },
  {
   "cell_type": "code",
   "execution_count": 59,
   "metadata": {},
   "outputs": [],
   "source": [
    "def create_mail_body(full_name):\n",
    "\n",
    "    body = \\\n",
    "\"\"\"\n",
    "\n",
    "This is a new test with my email thingy.\n",
    "do you like it?\n",
    "\n",
    "Thank you so much.\n",
    "\n",
    "株式会社○○\n",
    "{}様\n",
    "\n",
    "お世話になっております。キカガクの今西です。\n",
    "こちらのメールはPythonによるGmailのテスト送信になります。\n",
    "\n",
    "よろしくお願いいたします。\n",
    "\n",
    "━━━━━━━━━━━━━━━━━━━━━━━\n",
    "今西 航平（Kohei Imanishi）\n",
    "株式会社キカガク\n",
    "取締役副社長\n",
    "Email: kohei.imanishi@kikagaku.co.jp\n",
    "URL : https://www.kikagaku.co.jp/\n",
    "━━━━━━━━━━━━━━━━━━━━━━━━\n",
    "\"\"\".format(full_name)\n",
    "\n",
    "    return body"
   ]
  },
  {
   "cell_type": "code",
   "execution_count": 65,
   "metadata": {},
   "outputs": [],
   "source": [
    "addr_to = \"tamkayeung.adrian@gmail.com\"\n",
    "CC = [\"mine.mail.444@gmail.com\", \"atam378@aucklanduni.ac.nz\"]\n",
    "subject = \"How about this?\"\n",
    "body = create_mail_body(\"Test\")\n",
    "mailer = Mailer(addr_to, CC, subject, body)\n",
    "mailer.attach(\"../data/sample.pdf\")"
   ]
  },
  {
   "cell_type": "code",
   "execution_count": 66,
   "metadata": {},
   "outputs": [],
   "source": [
    "mailer.send()"
   ]
  },
  {
   "cell_type": "code",
   "execution_count": null,
   "metadata": {},
   "outputs": [],
   "source": []
  },
  {
   "cell_type": "code",
   "execution_count": null,
   "metadata": {},
   "outputs": [],
   "source": []
  }
 ],
 "metadata": {
  "interpreter": {
   "hash": "9695ed0f37ed2cce8046a605e603867c6d787710fd552ffb1915554768c774f5"
  },
  "kernelspec": {
   "display_name": "Python 3.8.6 64-bit ('.venv': venv)",
   "name": "python3"
  },
  "language_info": {
   "codemirror_mode": {
    "name": "ipython",
    "version": 3
   },
   "file_extension": ".py",
   "mimetype": "text/x-python",
   "name": "python",
   "nbconvert_exporter": "python",
   "pygments_lexer": "ipython3",
   "version": "3.8.6"
  },
  "orig_nbformat": 4
 },
 "nbformat": 4,
 "nbformat_minor": 2
}
